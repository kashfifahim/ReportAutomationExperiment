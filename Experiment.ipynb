{
 "cells": [
  {
   "cell_type": "markdown",
   "id": "783e011c-722a-459c-81f6-4605899c64fa",
   "metadata": {},
   "source": [
    "## Import ```datetime```"
   ]
  },
  {
   "cell_type": "code",
   "execution_count": 1,
   "id": "a4925a58-4cec-4374-9ab2-c89702e92233",
   "metadata": {},
   "outputs": [],
   "source": [
    "from datetime import datetime"
   ]
  },
  {
   "cell_type": "markdown",
   "id": "be95b850-bad8-4776-92b2-39c60c1c27b6",
   "metadata": {},
   "source": [
    "## Create the template with the report in text format"
   ]
  },
  {
   "cell_type": "code",
   "execution_count": 2,
   "id": "22e1a574-d0b7-4a38-9cda-087688256841",
   "metadata": {},
   "outputs": [],
   "source": [
    "TEMPLATE = '''\n",
    "Movies Report\n",
    "-------------\n",
    "Date: {date}\n",
    "Movies seen in the last 30 days: {num_movies}\n",
    "Total minutes: {total_minutes}\n",
    "'''"
   ]
  },
  {
   "cell_type": "markdown",
   "id": "3b4408b5-c5bd-48aa-977e-0fbaff61168e",
   "metadata": {},
   "source": [
    "## Create a dictionary with the values to store"
   ]
  },
  {
   "cell_type": "code",
   "execution_count": 8,
   "id": "c2cd8460-e7ce-4e89-a260-1674484284b0",
   "metadata": {},
   "outputs": [],
   "source": [
    "data = {\n",
    "    'date': datetime.utcnow(),\n",
    "    'num_movies': 3,\n",
    "    'total_minutes': 376,\n",
    "}"
   ]
  },
  {
   "cell_type": "markdown",
   "id": "5b9e1fee-b81b-4ec3-bc0e-a529cbf0a220",
   "metadata": {},
   "source": [
    "## Compose the text of the report, adding the data to the template "
   ]
  },
  {
   "cell_type": "code",
   "execution_count": 9,
   "id": "6a717b44-b916-4ab2-a8c8-c126611a1ec6",
   "metadata": {},
   "outputs": [],
   "source": [
    "report = TEMPLATE.format(**data)"
   ]
  },
  {
   "cell_type": "markdown",
   "id": "e2d29cf9-049f-4fb5-ba53-cafccbc26fc1",
   "metadata": {},
   "source": [
    "## Create a new file with the current date and store the report"
   ]
  },
  {
   "cell_type": "code",
   "execution_count": 14,
   "id": "d809e7a8-a7ab-4673-8f7c-da9feb15edfb",
   "metadata": {},
   "outputs": [],
   "source": [
    "FILENAME_TMP = \"{date}_report.txt\""
   ]
  },
  {
   "cell_type": "code",
   "execution_count": 15,
   "id": "df859a06-663e-4b66-a033-940c68643216",
   "metadata": {},
   "outputs": [],
   "source": [
    "filename = FILENAME_TMP.format(date=data['date'].strftime('%Y-%m-%d'))"
   ]
  },
  {
   "cell_type": "code",
   "execution_count": 16,
   "id": "e5f2b070-d4b4-4628-814c-ba234c396582",
   "metadata": {},
   "outputs": [
    {
     "data": {
      "text/plain": [
       "'2022-03-28_report.txt'"
      ]
     },
     "execution_count": 16,
     "metadata": {},
     "output_type": "execute_result"
    }
   ],
   "source": [
    "filename"
   ]
  },
  {
   "cell_type": "code",
   "execution_count": null,
   "id": "a1fb8810-ef5a-4a06-ba78-987e5e653217",
   "metadata": {},
   "outputs": [],
   "source": [
    "with open(filename, 'w') as file:\n",
    "    "
   ]
  },
  {
   "cell_type": "markdown",
   "id": "2a41f547-3679-4d4c-ac74-cad376eb47c4",
   "metadata": {},
   "source": [
    "## Check the newly created report"
   ]
  },
  {
   "cell_type": "code",
   "execution_count": null,
   "id": "8e9b7037-5892-4226-930f-5e01f932c6be",
   "metadata": {},
   "outputs": [],
   "source": []
  }
 ],
 "metadata": {
  "kernelspec": {
   "display_name": "Python 3 (ipykernel)",
   "language": "python",
   "name": "python3"
  },
  "language_info": {
   "codemirror_mode": {
    "name": "ipython",
    "version": 3
   },
   "file_extension": ".py",
   "mimetype": "text/x-python",
   "name": "python",
   "nbconvert_exporter": "python",
   "pygments_lexer": "ipython3",
   "version": "3.9.1"
  }
 },
 "nbformat": 4,
 "nbformat_minor": 5
}
